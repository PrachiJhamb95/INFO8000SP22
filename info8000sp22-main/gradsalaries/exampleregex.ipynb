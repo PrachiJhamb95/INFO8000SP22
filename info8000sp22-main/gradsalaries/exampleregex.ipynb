{
 "cells": [
  {
   "cell_type": "code",
   "execution_count": 3,
   "metadata": {},
   "outputs": [],
   "source": [
    "import pandas as pd\n",
    "import re"
   ]
  },
  {
   "cell_type": "code",
   "execution_count": 7,
   "metadata": {},
   "outputs": [],
   "source": [
    "df = pd.DataFrame({\"name\":[\"Kyle Johnsen\", \"Brook Bowers\", \"Andrew Rukangu\",\"Andrew\"]})\n",
    "df_names = df.name.str.extract(r\"^([a-z]+) +([a-z]+)$\",flags=re.IGNORECASE )\n",
    "#valid_names=df.name.str.match(r\"^([A-Za-z]+) +([A-Za-z]+)$\")\n",
    "#df[valid_names]\n",
    "#df.name.str.split(expand=True)"
   ]
  },
  {
   "cell_type": "code",
   "execution_count": 10,
   "metadata": {},
   "outputs": [
    {
     "data": {
      "text/plain": [
       "0      Kyle-Johnsen\n",
       "1      Brook-Bowers\n",
       "2    Andrew-Rukangu\n",
       "3           nan-nan\n",
       "dtype: object"
      ]
     },
     "execution_count": 10,
     "metadata": {},
     "output_type": "execute_result"
    }
   ],
   "source": [
    "#can also use concat function to stack vertically.\n",
    "df_c = pd.concat([df,df_names],axis=1)\n",
    "df_c.rename(columns = {0:\"FirstName\",1:\"LastName\"},inplace =True)\n",
    "def combineNames(x):\n",
    "    return f\"{x.FirstName}-{x.LastName}\"\n",
    "df_c.apply(combineNames,axis=1)\n"
   ]
  }
 ],
 "metadata": {
  "interpreter": {
   "hash": "1ca1ac1ea075cdc502afe6a2ff9b9aa095f949cbd9c3edc29a23910b874a1c05"
  },
  "kernelspec": {
   "display_name": "Python 3.8.3 ('base')",
   "language": "python",
   "name": "python3"
  },
  "language_info": {
   "codemirror_mode": {
    "name": "ipython",
    "version": 3
   },
   "file_extension": ".py",
   "mimetype": "text/x-python",
   "name": "python",
   "nbconvert_exporter": "python",
   "pygments_lexer": "ipython3",
   "version": "3.9.7"
  },
  "orig_nbformat": 4
 },
 "nbformat": 4,
 "nbformat_minor": 2
}
